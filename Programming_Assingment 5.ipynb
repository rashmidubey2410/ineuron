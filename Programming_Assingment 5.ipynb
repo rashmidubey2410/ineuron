{
 "cells": [
  {
   "cell_type": "markdown",
   "metadata": {},
   "source": [
    "## 1.Write a Python Program to Find LCM?"
   ]
  },
  {
   "cell_type": "code",
   "execution_count": 1,
   "metadata": {},
   "outputs": [
    {
     "name": "stdout",
     "output_type": "stream",
     "text": [
      "Enter the first Number:4\n",
      "Enter the second Number:8\n",
      "\n",
      "LCM = 8\n"
     ]
    }
   ],
   "source": [
    "x=int(input(\"Enter the first Number:\" ))\n",
    "y=int(input(\"Enter the second Number:\" ))\n",
    "\n",
    "if x>y:\n",
    "    great=x\n",
    "else:\n",
    "    great=y    \n",
    "\n",
    "while True:\n",
    "    \n",
    "    if ((great%x==0) and (great% y==0)):\n",
    "        lcm=great\n",
    "        break\n",
    "    else:\n",
    "        great=great+1\n",
    "        \n",
    "print(\"\\nLCM =\", lcm)\n",
    "\n"
   ]
  },
  {
   "cell_type": "markdown",
   "metadata": {},
   "source": [
    "## 2.Write a Python Program to Find HCF?"
   ]
  },
  {
   "cell_type": "code",
   "execution_count": 2,
   "metadata": {},
   "outputs": [
    {
     "name": "stdout",
     "output_type": "stream",
     "text": [
      "Enter the first Number:40\n",
      "Enter the second Number:56\n",
      "\n",
      "HCF  =  8\n"
     ]
    }
   ],
   "source": [
    "x=int(input(\"Enter the first Number:\" ))\n",
    "y=int(input(\"Enter the second Number:\" ))\n",
    "\n",
    "\n",
    "if x>y:\n",
    "    hcf = x\n",
    "else:\n",
    "    hcf = y\n",
    "\n",
    "while True:\n",
    "    if x%hcf==0 and y%hcf==0:\n",
    "        break\n",
    "    else:\n",
    "        hcf = hcf - 1\n",
    "\n",
    "print(\"\\nHCF  = \", hcf)\n"
   ]
  },
  {
   "cell_type": "markdown",
   "metadata": {},
   "source": [
    "## 3. Write a Python Program to Convert Decimal to Binary, Octal and Hexadecimal?"
   ]
  },
  {
   "cell_type": "code",
   "execution_count": 3,
   "metadata": {},
   "outputs": [
    {
     "name": "stdout",
     "output_type": "stream",
     "text": [
      "Please Enter the Decimal Number = 20\n",
      "0b10100 Binary Value\n",
      "0o24 Octal Value\n",
      "0x14 Hexadecimal Value\n"
     ]
    }
   ],
   "source": [
    "# Decimal to Binary, octal, and Hexadecimal\n",
    "\n",
    "decimal = int(input(\"Please Enter the Decimal Number = \"))\n",
    "\n",
    "binary = bin(decimal)\n",
    "octal = oct(decimal)\n",
    "hexadecimal = hex(decimal)\n",
    "\n",
    "print(binary, \"Binary Value\")\n",
    "print(octal, \"Octal Value\")\n",
    "print(hexadecimal, \"Hexadecimal Value\")"
   ]
  },
  {
   "cell_type": "markdown",
   "metadata": {},
   "source": [
    "## 4. Write a Python Program To Find ASCII value of a character?"
   ]
  },
  {
   "cell_type": "code",
   "execution_count": 5,
   "metadata": {},
   "outputs": [
    {
     "name": "stdout",
     "output_type": "stream",
     "text": [
      "Enter a character: 5\n",
      "The ASCII value of '5' is 53\n"
     ]
    }
   ],
   "source": [
    "a= input(\"Enter a character: \")  \n",
    "      \n",
    "print(\"The ASCII value of '\" + a + \"' is\",ord(a))  "
   ]
  },
  {
   "cell_type": "markdown",
   "metadata": {},
   "source": [
    "## 5. Write a Python Program to Make a Simple Calculator with 4 basic mathematical operations?\n",
    "\n",
    "\n"
   ]
  },
  {
   "cell_type": "code",
   "execution_count": 6,
   "metadata": {},
   "outputs": [
    {
     "name": "stdout",
     "output_type": "stream",
     "text": [
      "Select operation.\n",
      "1.Add\n",
      "2.Subtract\n",
      "3.Multiply\n",
      "4.Divide\n",
      "Enter choice(1/2/3/4):1\n",
      "Enter first number: 2\n",
      "Enter second number: 5\n",
      "2 + 5 = 7\n"
     ]
    }
   ],
   "source": [
    "def add(x, y):\n",
    "    return x + y \n",
    "\n",
    "def subtract(x, y):\n",
    "    return x - y \n",
    "\n",
    "def multiply(x, y):\n",
    "    return x * y \n",
    "\n",
    "def divide(x, y):\n",
    "    return x / y \n",
    "\n",
    "#input from the user \n",
    "\n",
    "print(\"Select operation.\")  \n",
    "print(\"1.Add\")  \n",
    "print(\"2.Subtract\")  \n",
    "print(\"3.Multiply\")  \n",
    "print(\"4.Divide\")  \n",
    "  \n",
    "choice = input(\"Enter choice(1/2/3/4):\")  \n",
    "  \n",
    "num1 = int(input(\"Enter first number: \"))  \n",
    "num2 = int(input(\"Enter second number: \"))  \n",
    "  \n",
    "if choice == '1':  \n",
    "   print(num1,\"+\",num2,\"=\", add(num1,num2))  \n",
    "  \n",
    "elif choice == '2':  \n",
    "   print(num1,\"-\",num2,\"=\", subtract(num1,num2))  \n",
    "  \n",
    "elif choice == '3':  \n",
    "   print(num1,\"*\",num2,\"=\", multiply(num1,num2))  \n",
    "elif choice == '4':  \n",
    "   print(num1,\"/\",num2,\"=\", divide(num1,num2))  \n",
    "else:  \n",
    "   print(\"Invalid input\")  "
   ]
  },
  {
   "cell_type": "code",
   "execution_count": null,
   "metadata": {},
   "outputs": [],
   "source": []
  }
 ],
 "metadata": {
  "kernelspec": {
   "display_name": "Python 3",
   "language": "python",
   "name": "python3"
  },
  "language_info": {
   "codemirror_mode": {
    "name": "ipython",
    "version": 3
   },
   "file_extension": ".py",
   "mimetype": "text/x-python",
   "name": "python",
   "nbconvert_exporter": "python",
   "pygments_lexer": "ipython3",
   "version": "3.7.4"
  }
 },
 "nbformat": 4,
 "nbformat_minor": 2
}
