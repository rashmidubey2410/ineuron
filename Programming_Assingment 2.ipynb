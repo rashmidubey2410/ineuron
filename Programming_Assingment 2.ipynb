{
 "cells": [
  {
   "cell_type": "markdown",
   "metadata": {},
   "source": [
    "## 1.\tWrite a Python program to convert kilometers to miles?\n"
   ]
  },
  {
   "cell_type": "code",
   "execution_count": 4,
   "metadata": {},
   "outputs": [
    {
     "name": "stdout",
     "output_type": "stream",
     "text": [
      "Enter the distance in Kilometers:4\n",
      "Distance in Miles is : 2.485484\n"
     ]
    }
   ],
   "source": [
    "a=int(input(\"Enter the distance in Kilometers:\" ))\n",
    "\n",
    "b=a*0.621371\n",
    "print(\"Distance in Miles is :\",b)"
   ]
  },
  {
   "cell_type": "markdown",
   "metadata": {},
   "source": [
    "## 2.\tWrite a Python program to convert Celsius to Fahrenheit?\n"
   ]
  },
  {
   "cell_type": "code",
   "execution_count": 6,
   "metadata": {},
   "outputs": [
    {
     "name": "stdout",
     "output_type": "stream",
     "text": [
      "Enter the Temp in celsius:20\n",
      "Temp in Fahrenheit is : 68.0\n"
     ]
    }
   ],
   "source": [
    "c=int(input(\"Enter the Temp in celsius:\" ))\n",
    "\n",
    "f=(c*9/5) + 32\n",
    "print(\"Temp in Fahrenheit is :\",f)"
   ]
  },
  {
   "cell_type": "markdown",
   "metadata": {},
   "source": [
    "## 3.\tWrite a Python program to display calendar?"
   ]
  },
  {
   "cell_type": "code",
   "execution_count": 13,
   "metadata": {},
   "outputs": [
    {
     "name": "stdout",
     "output_type": "stream",
     "text": [
      "Enter the year: 2021\n",
      "Enter the month: 3\n",
      "     March 2021\n",
      "Mo Tu We Th Fr Sa Su\n",
      " 1  2  3  4  5  6  7\n",
      " 8  9 10 11 12 13 14\n",
      "15 16 17 18 19 20 21\n",
      "22 23 24 25 26 27 28\n",
      "29 30 31\n",
      "\n"
     ]
    }
   ],
   "source": [
    "import calendar\n",
    "\n",
    "y = int(input(\"Enter the year: \"))  \n",
    "m = int(input(\"Enter the month: \"))  \n",
    "  \n",
    "print(calendar.month(y,m))  \n"
   ]
  },
  {
   "cell_type": "markdown",
   "metadata": {},
   "source": [
    "## 4.\tWrite a Python program to solve quadratic equation?\n",
    "\n"
   ]
  },
  {
   "cell_type": "code",
   "execution_count": 17,
   "metadata": {},
   "outputs": [
    {
     "name": "stdout",
     "output_type": "stream",
     "text": [
      "Enter the first Number : 1\n",
      "Enter the Second Number: 2\n",
      "Enter the third Number: 4\n",
      "root1 of the equation is (-0.9999999999999999+1.7320508075688772j)\n",
      "root2 of the equation is (-0.9999999999999999+1.7320508075688772j)\n"
     ]
    }
   ],
   "source": [
    "a = int(input(\"Enter the first Number : \"))  \n",
    "b = int(input(\"Enter the Second Number: \"))  \n",
    "c = int(input(\"Enter the third Number: \"))  \n",
    "\n",
    "d=(b**2)-(4*a*c)\n",
    "d1=d**0.5\n",
    "x1 = (-b+d1)/ 2*a \n",
    "x2 = (-b--d1)/2*a\n",
    "\n",
    "print(\"root1 of the equation is\",x1)\n",
    "print(\"root2 of the equation is\",x2)"
   ]
  },
  {
   "cell_type": "markdown",
   "metadata": {},
   "source": [
    "## 5.\tWrite a Python program to swap two variables without temp variable?\n"
   ]
  },
  {
   "cell_type": "code",
   "execution_count": 18,
   "metadata": {},
   "outputs": [
    {
     "name": "stdout",
     "output_type": "stream",
     "text": [
      "Enter the first variable:1\n",
      "Enter the second variable:4\n",
      "First variable before swaping is  1\n",
      "second variable before swaping is  4\n",
      "First variable after swaping is  4\n",
      "second variable after swaping is  1\n"
     ]
    }
   ],
   "source": [
    "a=int(input(\"Enter the first variable:\" ))\n",
    "b=int(input(\"Enter the second variable:\"))\n",
    "print(\"First variable before swaping is \",a)\n",
    "print(\"second variable before swaping is \",b)\n",
    "\n",
    "\n",
    "\n",
    "a=a+b\n",
    "b=a-b\n",
    "a=a-b\n",
    "\n",
    "\n",
    "\n",
    "print(\"First variable after swaping is \",a)\n",
    "print(\"second variable after swaping is \",b)"
   ]
  },
  {
   "cell_type": "code",
   "execution_count": null,
   "metadata": {},
   "outputs": [],
   "source": []
  }
 ],
 "metadata": {
  "kernelspec": {
   "display_name": "Python 3",
   "language": "python",
   "name": "python3"
  },
  "language_info": {
   "codemirror_mode": {
    "name": "ipython",
    "version": 3
   },
   "file_extension": ".py",
   "mimetype": "text/x-python",
   "name": "python",
   "nbconvert_exporter": "python",
   "pygments_lexer": "ipython3",
   "version": "3.7.4"
  }
 },
 "nbformat": 4,
 "nbformat_minor": 2
}
