{
 "cells": [
  {
   "cell_type": "markdown",
   "metadata": {},
   "source": [
    "## 1.\tWrite a Python program to print \"Hello Python\"?"
   ]
  },
  {
   "cell_type": "code",
   "execution_count": null,
   "metadata": {},
   "outputs": [],
   "source": [
    "print(\"Hello Python\")"
   ]
  },
  {
   "cell_type": "markdown",
   "metadata": {},
   "source": [
    "## 2.\tWrite a Python program to do arithmetical operations addition and division.?\n",
    "\n"
   ]
  },
  {
   "cell_type": "code",
   "execution_count": null,
   "metadata": {},
   "outputs": [],
   "source": [
    "a=int(input(\"Enter the first number:\" ))\n",
    "b=int(input(\"Enter the second number:\"))\n",
    "\n",
    "print(\"a+b=\",a+b)\n",
    "print(\"a/b=\",a/b)"
   ]
  },
  {
   "cell_type": "markdown",
   "metadata": {},
   "source": [
    "## 3.\tWrite a Python program to find the area of a triangle?\n"
   ]
  },
  {
   "cell_type": "code",
   "execution_count": null,
   "metadata": {},
   "outputs": [],
   "source": [
    "b=int(input(\"Enter the Base of the Triangle:\" ))\n",
    "h=int(input(\"Enter the Height of the Triangle :\"))\n",
    "a=b*h/2\n",
    "print (\"Area of the Triangle is:\",a)\n"
   ]
  },
  {
   "cell_type": "markdown",
   "metadata": {},
   "source": [
    "## 4.\tWrite a Python program to swap two variables?\n",
    "\n"
   ]
  },
  {
   "cell_type": "code",
   "execution_count": 2,
   "metadata": {},
   "outputs": [
    {
     "name": "stdout",
     "output_type": "stream",
     "text": [
      "Enter the first variable:2\n",
      "Enter the second variable:4\n",
      "First variable before swaping is  2\n",
      "second variable before swaping is  4\n",
      "First variable after swaping is  4\n",
      "second variable after swaping is  2\n"
     ]
    }
   ],
   "source": [
    "a=int(input(\"Enter the first variable:\" ))\n",
    "b=int(input(\"Enter the second variable:\"))\n",
    "print(\"First variable before swaping is \",a)\n",
    "print(\"second variable before swaping is \",b)\n",
    "\n",
    "t=a\n",
    "a=b\n",
    "b=t\n",
    "\n",
    "\n",
    "print(\"First variable after swaping is \",a)\n",
    "print(\"second variable after swaping is \",b)"
   ]
  },
  {
   "cell_type": "markdown",
   "metadata": {},
   "source": [
    "## 5.\tWrite a Python program to generate a random number?\n"
   ]
  },
  {
   "cell_type": "code",
   "execution_count": 18,
   "metadata": {},
   "outputs": [
    {
     "name": "stdout",
     "output_type": "stream",
     "text": [
      "12\n",
      "14\n",
      "5\n",
      "11\n",
      "17\n",
      "15\n",
      "8\n",
      "16\n",
      "4\n",
      "10\n"
     ]
    }
   ],
   "source": [
    "from random import randint\n",
    "\n",
    "# generate 10 random numbers between 0-20\n",
    "for i in range(10):\n",
    "    num= randint(0,20)\n",
    "    print(num)   "
   ]
  },
  {
   "cell_type": "markdown",
   "metadata": {},
   "source": [
    "___________________"
   ]
  },
  {
   "cell_type": "markdown",
   "metadata": {},
   "source": [
    "___________________________"
   ]
  }
 ],
 "metadata": {
  "kernelspec": {
   "display_name": "Python 3",
   "language": "python",
   "name": "python3"
  },
  "language_info": {
   "codemirror_mode": {
    "name": "ipython",
    "version": 3
   },
   "file_extension": ".py",
   "mimetype": "text/x-python",
   "name": "python",
   "nbconvert_exporter": "python",
   "pygments_lexer": "ipython3",
   "version": "3.7.4"
  }
 },
 "nbformat": 4,
 "nbformat_minor": 2
}
